{
 "cells": [
  {
   "cell_type": "markdown",
   "metadata": {},
   "source": [
    "# javascript toolbox\n",
    "### Dario Breitenstein / webpr D. König FS2020"
   ]
  },
  {
   "cell_type": "markdown",
   "metadata": {},
   "source": [
    "## `01 - 19.02.2020` \n",
    "\n",
    "### JS Resources\n",
    "- https://github.com/getify/You-Dont-Know-JS\n",
    "- https://eloquentjavascript.net/"
   ]
  },
  {
   "cell_type": "code",
   "execution_count": null,
   "metadata": {},
   "outputs": [],
   "source": [
    "/* \n",
    "* Live Coding 01\n",
    "* Basic Test 'Framework'\n",
    "*/\n",
    "\n",
    "document.writeln(\"Hello World\") // Browser feature 'prints' text to document"
   ]
  },
  {
   "cell_type": "markdown",
   "metadata": {},
   "source": [
    "### About Functions\n",
    "\n",
    "- Functions can only be defined once, since JS does not support method overloading.\n",
    "- `fun(var)` will overwrite a previously defined `fun()` because they have the same name.\n",
    "- Functions which don't explicitly return anything will always return `undefined`.\n",
    "- Functions in JS are values of the type `function`. Therefore they can be placed inside variables.\n",
    "- **It's a better idea to declare functions as variables, because declaring a variable twice yields a `SyntaxError`, wherease declaring a function twice simply overrides it.**\n",
    "\n",
    "### Anatomy of a Function\n",
    "\n",
    "A Block `{ }` contains a number of statements like `return 1;`, which are terminated by the statement termination symbol `;`\n",
    "\n",
    "The Statement `function fun() {}` places the block `{}` in the slot named `fun`.\n",
    "\n",
    "\n",
    "Because functions are values, we can place them directly in a variable like `const fun = () => { return 1; }`\n",
    "\n",
    "This type of expression is called a **lambda expression**."
   ]
  },
  {
   "cell_type": "code",
   "execution_count": 4,
   "metadata": {},
   "outputs": [
    {
     "name": "stdout",
     "output_type": "stream",
     "text": [
      "\u001b[33mtrue\u001b[39m\n"
     ]
    }
   ],
   "source": [
    "function fun1 () { return 1; }\n",
    "\n",
    "const fun2 = () => { return 1; }\n",
    "\n",
    "fun1() === fun2() // true"
   ]
  },
  {
   "cell_type": "markdown",
   "metadata": {},
   "source": [
    "**Currying**\n",
    "\n",
    "If we define a function `doit` which takes a function as an argument\n",
    "`const doit = callme => (arg => callme(arg));`\n",
    "\n",
    "we can write *curried* expressions like `doit(fun)(1)`, which will call the function `fun` with the parameter `1`.\n",
    "\n",
    "Essentially, we take a function with multiple arguments and divide it into many functions with a single argument.\n",
    "<br>  \n",
    "This can be used to create really fancy functional compositions:"
   ]
  },
  {
   "cell_type": "code",
   "execution_count": 16,
   "metadata": {},
   "outputs": [
    {
     "name": "stdout",
     "output_type": "stream",
     "text": [
      "\u001b[33m3\u001b[39m\n"
     ]
    }
   ],
   "source": [
    "const add = x => y => y + x\n",
    "const div = x => y => y / x\n",
    "\n",
    "const divideBy2 = div(2)\n",
    "const add1 = add(1)\n",
    "\n",
    "const divideBy2andAdd1 = x => add1(divideBy2(x))\n",
    "\n",
    "divideBy2andAdd1(4) // 3"
   ]
  },
  {
   "cell_type": "markdown",
   "metadata": {},
   "source": [
    "### Assignment Pitfalls\n",
    "\n",
    "- In JS, an assignment like `x = 1` has a value. This value is whatever is assigned (in this case `1`).\n",
    "- This can lead to terrible things like `if ( x = 1 )`, which will always evaluate to true.\n",
    "- To avoid such mistakes, use a **Yoda Conditional** `1 === x`, which will yield an error if you make a typo like `1 = x`, because you cannot assign a value to a value.\n",
    "\n",
    "![Yoda Condition you must use](http://www.andrewpetermarlow.co.uk/images/yoda-conditions.jpg)"
   ]
  },
  {
   "cell_type": "code",
   "execution_count": null,
   "metadata": {},
   "outputs": [],
   "source": []
  }
 ],
 "metadata": {
  "kernelspec": {
   "display_name": "JavaScript",
   "language": "javascript",
   "name": "jslab"
  },
  "language_info": {
   "file_extension": ".js",
   "mimetype": "text/javascript",
   "name": "javascript",
   "version": ""
  }
 },
 "nbformat": 4,
 "nbformat_minor": 2
}
